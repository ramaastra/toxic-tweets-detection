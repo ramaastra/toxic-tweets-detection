{
 "cells": [
  {
   "cell_type": "markdown",
   "metadata": {},
   "source": [
    "# Testing Deployed Toxic Tweets Detection Pipeline\n"
   ]
  },
  {
   "cell_type": "code",
   "execution_count": 64,
   "metadata": {},
   "outputs": [],
   "source": [
    "import tensorflow as tf\n",
    "import pandas as pd\n",
    "import requests\n",
    "import base64\n",
    "import json\n",
    "import os\n",
    "from pprint import PrettyPrinter\n",
    "\n",
    "pp = PrettyPrinter()"
   ]
  },
  {
   "cell_type": "markdown",
   "metadata": {},
   "source": [
    "## Checking Model Status\n"
   ]
  },
  {
   "cell_type": "code",
   "execution_count": 7,
   "metadata": {},
   "outputs": [
    {
     "name": "stdout",
     "output_type": "stream",
     "text": [
      "{'model_version_status': [{'state': 'AVAILABLE',\n",
      "                           'status': {'error_code': 'OK', 'error_message': ''},\n",
      "                           'version': '1714632557'}]}\n"
     ]
    }
   ],
   "source": [
    "pp.pprint(\n",
    "    requests.get(\"http://localhost:8080/v1/models/toxic-tweets-detection-model\").json()\n",
    ")"
   ]
  },
  {
   "cell_type": "markdown",
   "metadata": {},
   "source": [
    "## Testing from Dataset\n"
   ]
  },
  {
   "cell_type": "markdown",
   "metadata": {},
   "source": [
    "### Loading the Dataset\n"
   ]
  },
  {
   "cell_type": "code",
   "execution_count": 10,
   "metadata": {},
   "outputs": [
    {
     "data": {
      "text/html": [
       "<div>\n",
       "<style scoped>\n",
       "    .dataframe tbody tr th:only-of-type {\n",
       "        vertical-align: middle;\n",
       "    }\n",
       "\n",
       "    .dataframe tbody tr th {\n",
       "        vertical-align: top;\n",
       "    }\n",
       "\n",
       "    .dataframe thead th {\n",
       "        text-align: right;\n",
       "    }\n",
       "</style>\n",
       "<table border=\"1\" class=\"dataframe\">\n",
       "  <thead>\n",
       "    <tr style=\"text-align: right;\">\n",
       "      <th></th>\n",
       "      <th>is_toxic</th>\n",
       "      <th>tweet</th>\n",
       "    </tr>\n",
       "  </thead>\n",
       "  <tbody>\n",
       "    <tr>\n",
       "      <th>0</th>\n",
       "      <td>0</td>\n",
       "      <td>Three little birds</td>\n",
       "    </tr>\n",
       "    <tr>\n",
       "      <th>1</th>\n",
       "      <td>0</td>\n",
       "      <td>i like this positive #quote! never stress to t...</td>\n",
       "    </tr>\n",
       "    <tr>\n",
       "      <th>2</th>\n",
       "      <td>1</td>\n",
       "      <td>RT @SoulYodeler: Go ahead and mock me, one day...</td>\n",
       "    </tr>\n",
       "    <tr>\n",
       "      <th>3</th>\n",
       "      <td>0</td>\n",
       "      <td>wh is enemy deployed google for illegal manip....</td>\n",
       "    </tr>\n",
       "    <tr>\n",
       "      <th>4</th>\n",
       "      <td>1</td>\n",
       "      <td>I'm happy I ain't that bitch I use to be</td>\n",
       "    </tr>\n",
       "  </tbody>\n",
       "</table>\n",
       "</div>"
      ],
      "text/plain": [
       "   is_toxic                                              tweet\n",
       "0         0                                 Three little birds\n",
       "1         0  i like this positive #quote! never stress to t...\n",
       "2         1  RT @SoulYodeler: Go ahead and mock me, one day...\n",
       "3         0  wh is enemy deployed google for illegal manip....\n",
       "4         1           I'm happy I ain't that bitch I use to be"
      ]
     },
     "execution_count": 10,
     "metadata": {},
     "output_type": "execute_result"
    }
   ],
   "source": [
    "DATASET_PATH = os.path.abspath(\"data/data.csv\")\n",
    "\n",
    "df = pd.read_csv(DATASET_PATH)\n",
    "df.head()"
   ]
  },
  {
   "cell_type": "markdown",
   "metadata": {},
   "source": [
    "### Creating Samples to Test\n"
   ]
  },
  {
   "cell_type": "code",
   "execution_count": 249,
   "metadata": {},
   "outputs": [],
   "source": [
    "samples = df.sample(10, ignore_index=True)\n",
    "texts = samples[\"tweet\"]\n",
    "labels = samples[\"is_toxic\"]"
   ]
  },
  {
   "cell_type": "markdown",
   "metadata": {},
   "source": [
    "#### Converting Samples into TF Serving Request Format\n"
   ]
  },
  {
   "cell_type": "code",
   "execution_count": 251,
   "metadata": {},
   "outputs": [],
   "source": [
    "def base64_examples(text):\n",
    "    feature_spec = {\n",
    "        \"tweet\": tf.train.Feature(\n",
    "            bytes_list=tf.train.BytesList(value=[bytes(text, \"utf-8\")])\n",
    "        )\n",
    "    }\n",
    "\n",
    "    example = tf.train.Example(\n",
    "        features=tf.train.Features(feature=feature_spec)\n",
    "    ).SerializeToString()\n",
    "\n",
    "    return {\"examples\": {\"b64\": base64.b64encode(example).decode()}}"
   ]
  },
  {
   "cell_type": "code",
   "execution_count": 252,
   "metadata": {},
   "outputs": [],
   "source": [
    "instances = [base64_examples(text) for text in texts]\n",
    "request_data = json.dumps({\"signature_name\": \"serving_default\", \"instances\": instances})"
   ]
  },
  {
   "cell_type": "markdown",
   "metadata": {},
   "source": [
    "#### Getting Response\n"
   ]
  },
  {
   "cell_type": "code",
   "execution_count": 253,
   "metadata": {},
   "outputs": [],
   "source": [
    "response = requests.post(\n",
    "    \"http://localhost:8081/v1/models/toxic-tweets-detection-model:predict\",\n",
    "    data=request_data,\n",
    ").json()"
   ]
  },
  {
   "cell_type": "markdown",
   "metadata": {},
   "source": [
    "#### Converting Predictions Response as Label\n"
   ]
  },
  {
   "cell_type": "code",
   "execution_count": 254,
   "metadata": {},
   "outputs": [],
   "source": [
    "threshold = 0.5\n",
    "pred_labels = [\n",
    "    \"TOXIC\" if int(prediction[0] >= threshold) else \"NON-TOXIC\"\n",
    "    for prediction in response.get(\"predictions\")\n",
    "]"
   ]
  },
  {
   "cell_type": "markdown",
   "metadata": {},
   "source": [
    "#### Creating DataFrame to Visualize Predictions\n"
   ]
  },
  {
   "cell_type": "code",
   "execution_count": 255,
   "metadata": {},
   "outputs": [
    {
     "data": {
      "text/html": [
       "<div>\n",
       "<style scoped>\n",
       "    .dataframe tbody tr th:only-of-type {\n",
       "        vertical-align: middle;\n",
       "    }\n",
       "\n",
       "    .dataframe tbody tr th {\n",
       "        vertical-align: top;\n",
       "    }\n",
       "\n",
       "    .dataframe thead th {\n",
       "        text-align: right;\n",
       "    }\n",
       "</style>\n",
       "<table border=\"1\" class=\"dataframe\">\n",
       "  <thead>\n",
       "    <tr style=\"text-align: right;\">\n",
       "      <th></th>\n",
       "      <th>text</th>\n",
       "      <th>label</th>\n",
       "      <th>prediction</th>\n",
       "    </tr>\n",
       "  </thead>\n",
       "  <tbody>\n",
       "    <tr>\n",
       "      <th>0</th>\n",
       "      <td>@user @user it's a very cruel world we live in...</td>\n",
       "      <td>NON-TOXIC</td>\n",
       "      <td>NON-TOXIC</td>\n",
       "    </tr>\n",
       "    <tr>\n",
       "      <th>1</th>\n",
       "      <td>@user as a huge @user fan i'm excited for liv...</td>\n",
       "      <td>NON-TOXIC</td>\n",
       "      <td>NON-TOXIC</td>\n",
       "    </tr>\n",
       "    <tr>\n",
       "      <th>2</th>\n",
       "      <td>#prayfororlando  #orlandoshooting #orlando    ...</td>\n",
       "      <td>NON-TOXIC</td>\n",
       "      <td>NON-TOXIC</td>\n",
       "    </tr>\n",
       "    <tr>\n",
       "      <th>3</th>\n",
       "      <td>RT @BrandonTweets__: Who else remembers these ...</td>\n",
       "      <td>TOXIC</td>\n",
       "      <td>TOXIC</td>\n",
       "    </tr>\n",
       "    <tr>\n",
       "      <th>4</th>\n",
       "      <td>RT @StevStiffler: Wtf is \"Lolzzz\" ?! Did you l...</td>\n",
       "      <td>TOXIC</td>\n",
       "      <td>TOXIC</td>\n",
       "    </tr>\n",
       "    <tr>\n",
       "      <th>5</th>\n",
       "      <td>10 things that made me happy this week  10 thi...</td>\n",
       "      <td>NON-TOXIC</td>\n",
       "      <td>NON-TOXIC</td>\n",
       "    </tr>\n",
       "    <tr>\n",
       "      <th>6</th>\n",
       "      <td>Ohh &amp;amp; btw @Leslieeeixta when you get a cal...</td>\n",
       "      <td>TOXIC</td>\n",
       "      <td>TOXIC</td>\n",
       "    </tr>\n",
       "    <tr>\n",
       "      <th>7</th>\n",
       "      <td>Nigga you made it RT @HtownsNuNu: Nigga we mad...</td>\n",
       "      <td>TOXIC</td>\n",
       "      <td>TOXIC</td>\n",
       "    </tr>\n",
       "    <tr>\n",
       "      <th>8</th>\n",
       "      <td>happy bihday blue card   bihday  #blue #handma...</td>\n",
       "      <td>NON-TOXIC</td>\n",
       "      <td>NON-TOXIC</td>\n",
       "    </tr>\n",
       "    <tr>\n",
       "      <th>9</th>\n",
       "      <td>Easy bitch how ? Lmfaoooooooooo She was my gir...</td>\n",
       "      <td>TOXIC</td>\n",
       "      <td>TOXIC</td>\n",
       "    </tr>\n",
       "  </tbody>\n",
       "</table>\n",
       "</div>"
      ],
      "text/plain": [
       "                                                text      label prediction\n",
       "0  @user @user it's a very cruel world we live in...  NON-TOXIC  NON-TOXIC\n",
       "1   @user as a huge @user fan i'm excited for liv...  NON-TOXIC  NON-TOXIC\n",
       "2  #prayfororlando  #orlandoshooting #orlando    ...  NON-TOXIC  NON-TOXIC\n",
       "3  RT @BrandonTweets__: Who else remembers these ...      TOXIC      TOXIC\n",
       "4  RT @StevStiffler: Wtf is \"Lolzzz\" ?! Did you l...      TOXIC      TOXIC\n",
       "5  10 things that made me happy this week  10 thi...  NON-TOXIC  NON-TOXIC\n",
       "6  Ohh &amp; btw @Leslieeeixta when you get a cal...      TOXIC      TOXIC\n",
       "7  Nigga you made it RT @HtownsNuNu: Nigga we mad...      TOXIC      TOXIC\n",
       "8  happy bihday blue card   bihday  #blue #handma...  NON-TOXIC  NON-TOXIC\n",
       "9  Easy bitch how ? Lmfaoooooooooo She was my gir...      TOXIC      TOXIC"
      ]
     },
     "execution_count": 255,
     "metadata": {},
     "output_type": "execute_result"
    }
   ],
   "source": [
    "result_df = pd.DataFrame(\n",
    "    {\n",
    "        \"text\": texts,\n",
    "        \"label\": [\"TOXIC\" if label == 1 else \"NON-TOXIC\" for label in labels],\n",
    "        \"prediction\": pred_labels,\n",
    "    }\n",
    ")\n",
    "\n",
    "result_df"
   ]
  }
 ],
 "metadata": {
  "kernelspec": {
   "display_name": "mlops-tfx",
   "language": "python",
   "name": "python3"
  },
  "language_info": {
   "codemirror_mode": {
    "name": "ipython",
    "version": 3
   },
   "file_extension": ".py",
   "mimetype": "text/x-python",
   "name": "python",
   "nbconvert_exporter": "python",
   "pygments_lexer": "ipython3",
   "version": "3.10.0"
  }
 },
 "nbformat": 4,
 "nbformat_minor": 2
}
